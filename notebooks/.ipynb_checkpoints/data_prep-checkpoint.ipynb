{
 "cells": [
  {
   "cell_type": "code",
   "execution_count": null,
   "id": "important-adelaide",
   "metadata": {},
   "outputs": [],
   "source": [
    "import pandas as pd \n",
    "import numpy as np\n",
    "import tensorflow as tf\n",
    "from matplotlib import pyplot as plt\n",
    "from sklearn import preprocessing "
   ]
  },
  {
   "cell_type": "code",
   "execution_count": null,
   "id": "limited-nomination",
   "metadata": {},
   "outputs": [],
   "source": [
    "train_csv = pd.read_csv(\"../data/mnist_train.csv\")\n",
    "test_csv = pd.read_csv(\"../data/mnist_test.csv\")\n",
    "\n",
    "x_train = train_csv.loc[:, train_csv.columns != 'label'].to_numpy()\n",
    "y_train = train_csv['label'].to_numpy()\n",
    "\n",
    "x_test = test_csv.loc[:, train_csv.columns != 'label'].to_numpy()\n",
    "y_test = test_csv['label'].to_numpy()\n",
    "\n",
    "x_train=x_train.reshape(60000,28,28)\n",
    "x_test=x_test.reshape(10000,28,28) "
   ]
  },
  {
   "cell_type": "code",
   "execution_count": null,
   "id": "color-evaluation",
   "metadata": {},
   "outputs": [],
   "source": [
    "print(x_train[0])"
   ]
  },
  {
   "cell_type": "code",
   "execution_count": null,
   "id": "descending-thinking",
   "metadata": {},
   "outputs": [],
   "source": [
    "# CENTRALIZATION \n",
    "x_centralized = np.zeros((60000,28,28))\n",
    "\n",
    "for i in range(0,60000):\n",
    "    scaler = preprocessing.StandardScaler(with_std=False).fit(x_train[i])\n",
    "    x_centralized[i] = scaler.transform(x_train[i])"
   ]
  },
  {
   "cell_type": "code",
   "execution_count": null,
   "id": "spectacular-karen",
   "metadata": {},
   "outputs": [],
   "source": [
    "# NORMALIZATION METHOD\n",
    "x_normalized = np.zeros((60000,28,28))\n",
    "for i in range(0,60000):\n",
    "    x_normalized[i]=preprocessing.normalize(x_train[i],norm='l2')\n",
    "\n",
    "print(np.shape(x_normalized))"
   ]
  },
  {
   "cell_type": "code",
   "execution_count": null,
   "id": "disturbed-input",
   "metadata": {},
   "outputs": [],
   "source": [
    " x_standardized = np.zeros((60000,28,28))\n",
    "\n",
    "for i in range(0,60000):\n",
    "    scaler = preprocessing.StandardScaler(with_mean=False).fit(x_train[i])\n",
    "    x_standardized[i] = scaler.transform(x_train[i])"
   ]
  }
 ],
 "metadata": {
  "kernelspec": {
   "display_name": "Python 3",
   "language": "python",
   "name": "python3"
  },
  "language_info": {
   "codemirror_mode": {
    "name": "ipython",
    "version": 3
   },
   "file_extension": ".py",
   "mimetype": "text/x-python",
   "name": "python",
   "nbconvert_exporter": "python",
   "pygments_lexer": "ipython3",
   "version": "3.8.8"
  }
 },
 "nbformat": 4,
 "nbformat_minor": 5
}
