{
 "cells": [
  {
   "cell_type": "code",
   "execution_count": 5,
   "id": "serial-partition",
   "metadata": {},
   "outputs": [
    {
     "ename": "ImportError",
     "evalue": "cannot import name 'cross_validation' from 'sklearn' (/home/tsac/Projects/ml/venv/lib/python3.8/site-packages/sklearn/__init__.py)",
     "output_type": "error",
     "traceback": [
      "\u001b[0;31m---------------------------------------------------------------------------\u001b[0m",
      "\u001b[0;31mImportError\u001b[0m                               Traceback (most recent call last)",
      "\u001b[0;32m<ipython-input-5-5ffd7898e8af>\u001b[0m in \u001b[0;36m<module>\u001b[0;34m\u001b[0m\n\u001b[1;32m      4\u001b[0m \u001b[0;32mfrom\u001b[0m \u001b[0mmatplotlib\u001b[0m \u001b[0;32mimport\u001b[0m \u001b[0mpyplot\u001b[0m \u001b[0;32mas\u001b[0m \u001b[0mplt\u001b[0m\u001b[0;34m\u001b[0m\u001b[0;34m\u001b[0m\u001b[0m\n\u001b[1;32m      5\u001b[0m \u001b[0;32mfrom\u001b[0m \u001b[0msklearn\u001b[0m \u001b[0;32mimport\u001b[0m \u001b[0mpreprocessing\u001b[0m\u001b[0;34m\u001b[0m\u001b[0;34m\u001b[0m\u001b[0m\n\u001b[0;32m----> 6\u001b[0;31m \u001b[0;32mfrom\u001b[0m \u001b[0msklearn\u001b[0m \u001b[0;32mimport\u001b[0m \u001b[0mcross_validation\u001b[0m\u001b[0;34m\u001b[0m\u001b[0;34m\u001b[0m\u001b[0m\n\u001b[0m",
      "\u001b[0;31mImportError\u001b[0m: cannot import name 'cross_validation' from 'sklearn' (/home/tsac/Projects/ml/venv/lib/python3.8/site-packages/sklearn/__init__.py)"
     ]
    }
   ],
   "source": [
    "import pandas as pd \n",
    "import numpy as np\n",
    "import tensorflow as tf\n",
    "from matplotlib import pyplot as plt\n",
    "from sklearn import preprocessing,cross_validation  "
   ]
  },
  {
   "cell_type": "code",
   "execution_count": 2,
   "id": "elder-cornell",
   "metadata": {},
   "outputs": [],
   "source": [
    "train_csv = pd.read_csv(\"../data/mnist_train.csv\")\n",
    "test_csv = pd.read_csv(\"../data/mnist_test.csv\")\n",
    "\n",
    "x_train = train_csv.loc[:, train_csv.columns != 'label'].to_numpy()\n",
    "y_train = train_csv['label'].to_numpy()\n",
    "\n",
    "x_test = test_csv.loc[:, train_csv.columns != 'label'].to_numpy()\n",
    "y_test = test_csv['label'].to_numpy()\n",
    "\n",
    "x_train=x_train.reshape(60000,28,28)\n",
    "x_test=x_test.reshape(10000,28,28) "
   ]
  },
  {
   "cell_type": "code",
   "execution_count": 3,
   "id": "adverse-helmet",
   "metadata": {},
   "outputs": [],
   "source": [
    "# CENTRALIZATION \n",
    "x_centralized = np.zeros((60000,28,28))\n",
    "x_normalized = np.zeros((60000,28,28)) \n",
    "x_standardized = np.zeros((60000,28,28))\n",
    "\n",
    "for i in range(0,60000):\n",
    "    # CENTRALIZATION\n",
    "    scaler = preprocessing.StandardScaler(with_std=False).fit(x_train[i])\n",
    "    x_centralized[i] = scaler.transform(x_train[i]) \n",
    "    # NORMALIZATION\n",
    "    x_normalized[i]=preprocessing.normalize(x_train[i],norm='l2') \n",
    "    # STANDARDIZATION\n",
    "    scaler = preprocessing.StandardScaler(with_mean=False).fit(x_train[i])\n",
    "    x_standardized[i] = scaler.transform(x_train[i])\n",
    "    "
   ]
  },
  {
   "cell_type": "code",
   "execution_count": 4,
   "id": "toxic-associate",
   "metadata": {},
   "outputs": [
    {
     "ename": "NameError",
     "evalue": "name 'cross_validation' is not defined",
     "output_type": "error",
     "traceback": [
      "\u001b[0;31m---------------------------------------------------------------------------\u001b[0m",
      "\u001b[0;31mNameError\u001b[0m                                 Traceback (most recent call last)",
      "\u001b[0;32m<ipython-input-4-7d3ebe1ee73c>\u001b[0m in \u001b[0;36m<module>\u001b[0;34m\u001b[0m\n\u001b[0;32m----> 1\u001b[0;31m \u001b[0mdata\u001b[0m \u001b[0;34m=\u001b[0m \u001b[0mcross_validation\u001b[0m\u001b[0;34m.\u001b[0m\u001b[0mKFold\u001b[0m\u001b[0;34m(\u001b[0m\u001b[0mlen\u001b[0m\u001b[0;34m(\u001b[0m\u001b[0mx_normalized\u001b[0m\u001b[0;34m)\u001b[0m\u001b[0;34m,\u001b[0m\u001b[0mn_fold\u001b[0m\u001b[0;34m=\u001b[0m\u001b[0;36m5\u001b[0m\u001b[0;34m,\u001b[0m\u001b[0mindices\u001b[0m\u001b[0;34m=\u001b[0m\u001b[0;32mFalse\u001b[0m\u001b[0;34m)\u001b[0m\u001b[0;34m\u001b[0m\u001b[0;34m\u001b[0m\u001b[0m\n\u001b[0m",
      "\u001b[0;31mNameError\u001b[0m: name 'cross_validation' is not defined"
     ]
    }
   ],
   "source": [
    "data = cross_validation.KFold(len(x_normalized),n_fold=5,indices=False)"
   ]
  }
 ],
 "metadata": {
  "kernelspec": {
   "display_name": "Python 3",
   "language": "python",
   "name": "python3"
  },
  "language_info": {
   "codemirror_mode": {
    "name": "ipython",
    "version": 3
   },
   "file_extension": ".py",
   "mimetype": "text/x-python",
   "name": "python",
   "nbconvert_exporter": "python",
   "pygments_lexer": "ipython3",
   "version": "3.8.8"
  }
 },
 "nbformat": 4,
 "nbformat_minor": 5
}
