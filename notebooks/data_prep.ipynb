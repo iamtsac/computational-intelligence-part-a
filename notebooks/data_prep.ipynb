{
 "cells": [
  {
   "cell_type": "code",
   "execution_count": 144,
   "id": "heated-index",
   "metadata": {},
   "outputs": [],
   "source": [
    "import pandas as pd \n",
    "import numpy as np\n",
    "import tensorflow as tf\n",
    "from matplotlib import pyplot as plt\n",
    "from sklearn import preprocessing  "
   ]
  },
  {
   "cell_type": "code",
   "execution_count": null,
   "id": "excited-september",
   "metadata": {},
   "outputs": [],
   "source": [
    "train_csv = pd.read_csv(\"../data/mnist_train.csv\")\n",
    "test_csv = pd.read_csv(\"../data/mnist_test.csv\")\n",
    "\n",
    "x_train = train_csv.loc[:, train_csv.columns != 'label'].to_numpy()\n",
    "y_train = train_csv['label'].to_numpy()\n",
    "\n",
    "x_test = test_csv.loc[:, train_csv.columns != 'label'].to_numpy()\n",
    "y_test = test_csv['label'].to_numpy()\n",
    "\n",
    "x_train=x_train.reshape(60000,28,28)\n",
    "x_test=x_test.reshape(10000,28,28) \n"
   ]
  },
  {
   "cell_type": "code",
   "execution_count": 150,
   "id": "driven-trust",
   "metadata": {},
   "outputs": [
    {
     "data": {
      "image/png": "[encoded data removed]",
      "text/plain": [
       "<Figure size 432x288 with 1 Axes>"
      ]
     },
     "metadata": {
      "needs_background": "light"
     },
     "output_type": "display_data"
    }
   ],
   "source": [
    "plt.imshow(x_test[3])\n",
    "plt.show()"
   ]
  },
  {
   "cell_type": "code",
   "execution_count": null,
   "id": "balanced-writer",
   "metadata": {},
   "outputs": [],
   "source": [
    "# CENTRALIZATION \n",
    "x_centralized = np.zeros((60000,28,28))\n",
    "x_standardized = np.zeros((60000,28,28))\n",
    "\n",
    "# NORMALIZATION\n",
    "x_normalized=tf.keras.utils.normalize(x_train) \n",
    "x_test_normalized=tf.keras.utils.normalize(x_test) \n",
    "\n",
    "for i in range(0,60000):\n",
    "    # CENTRALIZATION\n",
    "    scaler = preprocessing.StandardScaler(with_std=False).fit(x_train[i])\n",
    "    x_centralized[i] = scaler.transform(x_train[i]) \n",
    "    # STANDARDIZATION\n",
    "    scaler = preprocessing.StandardScaler(with_mean=False).fit(x_train[i])\n",
    "    x_standardized[i] = scaler.transform(x_train[i])\n",
    "    "
   ]
  },
  {
   "cell_type": "code",
   "execution_count": 146,
   "id": "basic-kingston",
   "metadata": {},
   "outputs": [
    {
     "name": "stdout",
     "output_type": "stream",
     "text": [
      "Epoch 1/3\n",
      "1500/1500 [==============================] - 1s 529us/step - loss: 0.5311 - accuracy: 0.8402\n",
      "Epoch 2/3\n",
      "1500/1500 [==============================] - 1s 511us/step - loss: 0.1294 - accuracy: 0.9603\n",
      "Epoch 3/3\n",
      "1500/1500 [==============================] - 1s 519us/step - loss: 0.0845 - accuracy: 0.9744\n",
      "Epoch 1/3\n",
      "1500/1500 [==============================] - 1s 515us/step - loss: 0.0722 - accuracy: 0.9773\n",
      "Epoch 2/3\n",
      "1500/1500 [==============================] - 1s 519us/step - loss: 0.0529 - accuracy: 0.9831\n",
      "Epoch 3/3\n",
      "1500/1500 [==============================] - 1s 538us/step - loss: 0.0415 - accuracy: 0.9865\n",
      "Epoch 1/3\n",
      "1500/1500 [==============================] - 1s 527us/step - loss: 0.0449 - accuracy: 0.9852\n",
      "Epoch 2/3\n",
      "1500/1500 [==============================] - 1s 524us/step - loss: 0.0302 - accuracy: 0.9903\n",
      "Epoch 3/3\n",
      "1500/1500 [==============================] - 1s 524us/step - loss: 0.0260 - accuracy: 0.9910\n",
      "Epoch 1/3\n",
      "1500/1500 [==============================] - 1s 531us/step - loss: 0.0289 - accuracy: 0.9907\n",
      "Epoch 2/3\n",
      "1500/1500 [==============================] - 1s 549us/step - loss: 0.0196 - accuracy: 0.9934\n",
      "Epoch 3/3\n",
      "1500/1500 [==============================] - 1s 524us/step - loss: 0.0169 - accuracy: 0.9946\n",
      "Epoch 1/3\n",
      "1500/1500 [==============================] - 1s 515us/step - loss: 0.0217 - accuracy: 0.9930\n",
      "Epoch 2/3\n",
      "1500/1500 [==============================] - 1s 522us/step - loss: 0.0149 - accuracy: 0.9948\n",
      "Epoch 3/3\n",
      "1500/1500 [==============================] - 1s 540us/step - loss: 0.0119 - accuracy: 0.9960\n"
     ]
    }
   ],
   "source": [
    "from sklearn.model_selection import KFold\n",
    "from tensorflow.keras.activations import softmax\n",
    "\n",
    "kfold = KFold(n_splits=5, shuffle=False)\n",
    "model = tf.keras.models.Sequential()\n",
    "model.add(tf.keras.layers.Flatten())\n",
    "model.add(tf.keras.layers.Dense(128,activation=tf.nn.relu))\n",
    "model.add(tf.keras.layers.Dense(128,activation=tf.nn.relu))\n",
    "model.add(tf.keras.layers.Dense(10,activation=tf.nn.softmax))\n",
    "model.compile(\n",
    "    optimizer='adam',\n",
    "    loss='sparse_categorical_crossentropy',\n",
    "    metrics=['accuracy']\n",
    ")\n",
    "for train_index, test_index in kfold.split(x_normalized,y_train): \n",
    "        x=x_normalized[train_index]   \n",
    "        y=y_train[train_index]\n",
    "        model.fit(\n",
    "            x,y,epochs=3\n",
    "        )"
   ]
  },
  {
   "cell_type": "code",
   "execution_count": 153,
   "id": "looking-salmon",
   "metadata": {},
   "outputs": [
    {
     "name": "stdout",
     "output_type": "stream",
     "text": [
      "313/313 [==============================] - 0s 385us/step - loss: 0.0916 - accuracy: 0.9797\n",
      "0.09159866720438004 0.9797000288963318\n",
      "[7 2 1 0 4]\n"
     ]
    }
   ],
   "source": [
    "val_loss,val_acc=model.evaluate(x_test_normalized,y_test)\n",
    "print(val_loss,val_acc)\n",
    "predicts = model.predict(x_test_normalized)\n",
    "\n",
    "classes = np.argmax(predicts, axis = 1)\n",
    "\n",
    "print(classes[0:5])"
   ]
  },
  {
   "cell_type": "code",
   "execution_count": null,
   "id": "beginning-execution",
   "metadata": {},
   "outputs": [],
   "source": []
  }
 ],
 "metadata": {
  "kernelspec": {
   "display_name": "Python 3",
   "language": "python",
   "name": "python3"
  },
  "language_info": {
   "codemirror_mode": {
    "name": "ipython",
    "version": 3
   },
   "file_extension": ".py",
   "mimetype": "text/x-python",
   "name": "python",
   "nbconvert_exporter": "python",
   "pygments_lexer": "ipython3",
   "version": "3.8.8"
  }
 },
 "nbformat": 4,
 "nbformat_minor": 5
}
